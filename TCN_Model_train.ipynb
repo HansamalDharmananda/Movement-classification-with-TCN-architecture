{
  "nbformat": 4,
  "nbformat_minor": 0,
  "metadata": {
    "accelerator": "GPU",
    "colab": {
      "name": "TCN_Model_train_numpy_array.ipynb",
      "provenance": [],
      "collapsed_sections": []
    },
    "kernelspec": {
      "display_name": "Python 3",
      "name": "python3"
    },
    "language_info": {
      "name": "python"
    }
  },
  "cells": [
    {
      "cell_type": "code",
      "metadata": {
        "id": "FDYfp34-3fAP"
      },
      "source": [
        "# from google.colab import drive\n",
        "# drive.mount('/content/drive')"
      ],
      "execution_count": null,
      "outputs": []
    },
    {
      "cell_type": "code",
      "metadata": {
        "id": "bVARcJ1CxVE6"
      },
      "source": [
        "# !pip install keras-tcn"
      ],
      "execution_count": null,
      "outputs": []
    },
    {
      "cell_type": "code",
      "metadata": {
        "id": "j23xO2vY31iv"
      },
      "source": [
        "from numpy import load\n",
        "import numpy as np\n",
        "import tensorflow as tf\n",
        "from keras.utils import to_categorical\n",
        "from sklearn.model_selection import train_test_split\n",
        "\n",
        "dict_data = load(r'/GMA/40_Frame/data_target_50_50/data_40_50_50.npz')\n",
        "dict_target = load(r'/GMA/40_Frame/data_target_50_50/target_40_50_50.npz')\n",
        "\n",
        "data = dict_data['arr_0']\n",
        "target = dict_target['arr_0']\n",
        "\n",
        "data_new = data/255.0 # normalize the data\n",
        "data_new = np.round(data_new, 4)\n",
        "\n",
        "train_labels = to_categorical(target, dtype =\"uint8\")\n",
        "\n",
        "x_train, x_test, y_train, y_test = train_test_split(data_new, train_labels, test_size=0.1, random_state=42)"
      ],
      "execution_count": null,
      "outputs": []
    },
    {
      "cell_type": "code",
      "metadata": {
        "id": "0oabmmVhQhJO",
        "colab": {
          "base_uri": "https://localhost:8080/"
        },
        "outputId": "4208b258-7584-4443-b002-dab08171ae6e"
      },
      "source": [
        "import tensorflow.keras.backend as K\n",
        "from tensorflow.keras import Input, Model\n",
        "from keras.optimizers import RMSprop \n",
        "from tensorflow.keras.layers import Conv2D\n",
        "from tensorflow.keras.layers import Dense\n",
        "from tensorflow.keras.layers import Lambda\n",
        "from tensorflow.keras.layers import MaxPool2D\n",
        "\n",
        "from tcn import TCN\n",
        "\n",
        "num_samples = len(data_new)  # number of videos.\n",
        "num_frames = len(data_new[0][:])  # 2,3,5 seconds of video at 20 ips.\n",
        "h, w, c = data.shape[2], data.shape[3], 3  # def  video! color.\n",
        "\n",
        "inputs = Input(shape=(num_frames, h, w, c)) \n",
        "x = Lambda(lambda y: K.reshape(y, (-1, h, w, c)))(inputs) # push num_frames in batch_dim to process all the frames independently of their orders (CNN features).\n",
        "x = Conv2D(16, 5)(x) # apply convolutions to each image of each video.\n",
        "x = MaxPool2D()(x)\n",
        "    # re-creates the videos by reshaping.\n",
        "    # 3D input shape (batch, timesteps, input_dim)\n",
        "num_features_cnn = np.prod(K.int_shape(x)[1:]) # Returns the shape as a tuple of int or None entries # Return the product of array elements over a given axis.\n",
        "x = Lambda(lambda y: K.reshape(y, (-1, num_frames, num_features_cnn)))(x)\n",
        "    # apply the RNN on the time dimension (num_frames dim).\n",
        "x = TCN(\n",
        "    nb_filters=64,\n",
        "    kernel_size=3,\n",
        "    nb_stacks=1,\n",
        "    dilations=(1, 2, 4, 8, 16, 32),\n",
        "    padding='causal',\n",
        "    use_skip_connections=True,\n",
        "    dropout_rate=0.0,\n",
        "    return_sequences=False,\n",
        "    activation='relu',\n",
        "    kernel_initializer='he_normal',\n",
        "    use_batch_norm=False,\n",
        "    use_layer_norm=False,\n",
        "    use_weight_norm=False\n",
        ")(x)\n",
        "\n",
        "x = Dense(7, activation='softmax')(x)\n",
        "\n",
        "model = Model(inputs=[inputs], outputs=[x])\n",
        "model.summary()\n",
        "model.compile(loss='categorical_crossentropy',optimizer=RMSprop(learning_rate=0.001), metrics=['accuracy'])"
      ],
      "execution_count": null,
      "outputs": [
        {
          "output_type": "stream",
          "text": [
            "Model: \"model\"\n",
            "_________________________________________________________________\n",
            "Layer (type)                 Output Shape              Param #   \n",
            "=================================================================\n",
            "input_1 (InputLayer)         [(None, 40, 50, 50, 3)]   0         \n",
            "_________________________________________________________________\n",
            "lambda (Lambda)              (None, 50, 50, 3)         0         \n",
            "_________________________________________________________________\n",
            "conv2d (Conv2D)              (None, 46, 46, 16)        1216      \n",
            "_________________________________________________________________\n",
            "max_pooling2d (MaxPooling2D) (None, 23, 23, 16)        0         \n",
            "_________________________________________________________________\n",
            "lambda_1 (Lambda)            (None, 40, 8464)          0         \n",
            "_________________________________________________________________\n",
            "tcn (TCN)                    (None, 64)                2302784   \n",
            "_________________________________________________________________\n",
            "dense (Dense)                (None, 7)                 455       \n",
            "=================================================================\n",
            "Total params: 2,304,455\n",
            "Trainable params: 2,304,455\n",
            "Non-trainable params: 0\n",
            "_________________________________________________________________\n"
          ],
          "name": "stdout"
        }
      ]
    },
    {
      "cell_type": "code",
      "metadata": {
        "id": "4SCoEwsuem7Y",
        "colab": {
          "base_uri": "https://localhost:8080/"
        },
        "outputId": "08fb2861-c95f-4db2-fed4-915fc7e0c535"
      },
      "source": [
        "print('Train...')\n",
        "history = model.fit(x_train, y_train, validation_split=0.2, epochs=10, shuffle=True)"
      ],
      "execution_count": null,
      "outputs": [
        {
          "output_type": "stream",
          "text": [
            "Train...\n",
            "Epoch 1/10\n",
            "39/39 [==============================] - 25s 556ms/step - loss: 16.7938 - accuracy: 0.3823 - val_loss: 1.5973 - val_accuracy: 0.6078\n",
            "Epoch 2/10\n",
            "39/39 [==============================] - 20s 502ms/step - loss: 0.5627 - accuracy: 0.8487 - val_loss: 0.0025 - val_accuracy: 1.0000\n",
            "Epoch 3/10\n",
            "39/39 [==============================] - 20s 508ms/step - loss: 0.0016 - accuracy: 1.0000 - val_loss: 2.5012e-04 - val_accuracy: 1.0000\n",
            "Epoch 4/10\n",
            "39/39 [==============================] - 20s 510ms/step - loss: 0.4547 - accuracy: 0.9840 - val_loss: 0.0485 - val_accuracy: 0.9902\n",
            "Epoch 5/10\n",
            "39/39 [==============================] - 20s 510ms/step - loss: 0.0147 - accuracy: 0.9967 - val_loss: 3.2807e-04 - val_accuracy: 1.0000\n",
            "Epoch 6/10\n",
            "39/39 [==============================] - 20s 515ms/step - loss: 1.8442e-04 - accuracy: 1.0000 - val_loss: 2.4013e-05 - val_accuracy: 1.0000\n",
            "Epoch 7/10\n",
            "39/39 [==============================] - 20s 516ms/step - loss: 1.4685e-05 - accuracy: 1.0000 - val_loss: 1.9498e-06 - val_accuracy: 1.0000\n",
            "Epoch 8/10\n",
            "39/39 [==============================] - 20s 519ms/step - loss: 1.3076e-06 - accuracy: 1.0000 - val_loss: 2.5322e-07 - val_accuracy: 1.0000\n",
            "Epoch 9/10\n",
            "39/39 [==============================] - 20s 517ms/step - loss: 1.5390e-07 - accuracy: 1.0000 - val_loss: 2.2985e-08 - val_accuracy: 1.0000\n",
            "Epoch 10/10\n",
            "39/39 [==============================] - 20s 507ms/step - loss: 1.7154e-08 - accuracy: 1.0000 - val_loss: 3.5062e-09 - val_accuracy: 1.0000\n"
          ],
          "name": "stdout"
        }
      ]
    },
    {
      "cell_type": "code",
      "metadata": {
        "id": "40ykAwFcyIc5"
      },
      "source": [
        "model.save_weights(r'E:\\GMA\\40_Frame\\data_target_50_50/TCN_40_50_50.h5')"
      ],
      "execution_count": null,
      "outputs": []
    },
    {
      "cell_type": "code",
      "metadata": {
        "id": "vrieaOOjBgot",
        "colab": {
          "base_uri": "https://localhost:8080/"
        },
        "outputId": "e70bb221-3a5f-40f5-e51c-5428560c7db7"
      },
      "source": [
        "result = model.evaluate(x_test, y_test)"
      ],
      "execution_count": null,
      "outputs": [
        {
          "output_type": "stream",
          "text": [
            "6/6 [==============================] - 1s 121ms/step - loss: 1.1851e-08 - accuracy: 1.0000\n"
          ],
          "name": "stdout"
        }
      ]
    },
    {
      "cell_type": "code",
      "metadata": {
        "id": "tRg2dEqMXz1k",
        "colab": {
          "base_uri": "https://localhost:8080/",
          "height": 295
        },
        "outputId": "d4e344e2-45f8-42bd-a877-d9c197d1d610"
      },
      "source": [
        "import matplotlib.pyplot as plt\n",
        "\n",
        "plt.figure()\n",
        "plt.plot(history.history[\"accuracy\"], label = \"Train\")\n",
        "plt.plot(history.history[\"val_accuracy\"], label = \"Test\")\n",
        "plt.title(\"Accuracy\")\n",
        "plt.ylabel(\"Accuracy\")\n",
        "plt.xlabel(\"epochs\")\n",
        "plt.legend()\n",
        "plt.show()"
      ],
      "execution_count": null,
      "outputs": [
        {
          "output_type": "display_data",
          "data": {
            "text/plain": [
              "<Figure size 432x288 with 1 Axes>"
            ],
            "image/png": "[encoded data removed]"
          },
          "metadata": {
            "tags": [],
            "needs_background": "light"
          }
        }
      ]
    },
    {
      "cell_type": "code",
      "metadata": {
        "id": "O5ZD5aF9YKHv",
        "colab": {
          "base_uri": "https://localhost:8080/",
          "height": 295
        },
        "outputId": "93d28fd5-a5c5-47c4-e368-d5437ca5c3c2"
      },
      "source": [
        "plt.figure()\n",
        "plt.plot(history.history[\"loss\"], label = \"Train\")\n",
        "plt.plot(history.history[\"val_loss\"], label = \"Test\")\n",
        "plt.title(\"Loss\")\n",
        "plt.ylabel(\"Loss\")\n",
        "plt.xlabel(\"epochs\")\n",
        "plt.legend()\n",
        "plt.show()"
      ],
      "execution_count": null,
      "outputs": [
        {
          "output_type": "display_data",
          "data": {
            "text/plain": [
              "<Figure size 432x288 with 1 Axes>"
            ],
            "image/png": "[encoded data removed]"
          },
          "metadata": {
            "tags": [],
            "needs_background": "light"
          }
        }
      ]
    },
    {
      "cell_type": "code",
      "metadata": {
        "id": "cwlVZyuGa07y"
      },
      "source": [
        "%matplotlib inline\n",
        "from sklearn.metrics import confusion_matrix\n",
        "import itertools\n",
        "import matplotlib.pyplot as plt\n",
        "\n",
        "# label_predict = m\n",
        "label_predict_argmax = np.argmax(model.predict(x_test), axis=-1)\n",
        "label_actual_argmax = np.argmax(y_test, axis=-1)\n",
        "\n",
        "\n",
        "cm = confusion_matrix(y_true=label_actual_argmax, y_pred=label_predict_argmax)\n",
        "\n",
        "\n",
        "def plot_confusion_matrix(cm, classes,\n",
        "                        normalize=False,\n",
        "                        title='Confusion matrix',\n",
        "                        cmap=plt.cm.Purples):\n",
        "   \n",
        "    plt.imshow(cm, interpolation='nearest', aspect='auto', cmap=cmap)\n",
        "    plt.title(title)\n",
        "    plt.colorbar()\n",
        "    tick_marks = np.arange(len(classes))\n",
        "    plt.xticks(tick_marks, classes, rotation=80)\n",
        "    plt.yticks(tick_marks, classes)\n",
        "\n",
        "    if normalize:\n",
        "        cm = cm.astype('float') / cm.sum(axis=1)[:, np.newaxis]\n",
        "        print(\"Normalized confusion matrix\")\n",
        "    else:\n",
        "        print('Confusion matrix, without normalization')\n",
        "\n",
        "    print(cm)\n",
        "\n",
        "    thresh = cm.max() / 2.\n",
        "    for i, j in itertools.product(range(cm.shape[0]), range(cm.shape[1])):\n",
        "        plt.text(j, i, cm[i, j],\n",
        "            horizontalalignment=\"center\",\n",
        "            color=\"white\" if cm[i, j] > thresh else \"black\")\n",
        "\n",
        "    plt.tight_layout()\n",
        "    plt.ylabel('True label')\n",
        "    plt.xlabel('Predicted label')"
      ],
      "execution_count": null,
      "outputs": []
    },
    {
      "cell_type": "code",
      "metadata": {
        "id": "nhKE8CAZdvP5",
        "colab": {
          "base_uri": "https://localhost:8080/",
          "height": 446
        },
        "outputId": "ba9d2662-370e-4de7-a489-125ad5900b67"
      },
      "source": [
        "cm_plot_labels = ['Ab: Normal Fidgety','Chaotic','Cramped Synchronized','Poor Repertory','Normal Fidgety','No Movements','Not a GM'] # class labels\n",
        "plot_confusion_matrix(cm=cm, classes=cm_plot_labels, title='Confusion Matrix') # plot the confusion matrix for training data"
      ],
      "execution_count": null,
      "outputs": [
        {
          "output_type": "stream",
          "text": [
            "Confusion matrix, without normalization\n",
            "[[22  0  0  0  0  0  0]\n",
            " [ 0 16  0  0  0  0  0]\n",
            " [ 0  0 25  0  0  0  0]\n",
            " [ 0  0  0 17  0  0  0]\n",
            " [ 0  0  0  0 29  0  0]\n",
            " [ 0  0  0  0  0 31  0]\n",
            " [ 0  0  0  0  0  0 31]]\n"
          ],
          "name": "stdout"
        },
        {
          "output_type": "display_data",
          "data": {
            "text/plain": [
              "<Figure size 432x288 with 2 Axes>"
            ],
            "image/png": "[encoded data removed]"
          },
          "metadata": {
            "tags": [],
            "needs_background": "light"
          }
        }
      ]
    },
    {
      "cell_type": "code",
      "metadata": {
        "id": "SQztTGm9IQc-",
        "colab": {
          "base_uri": "https://localhost:8080/"
        },
        "outputId": "ab2c7fdb-d2a6-4ef2-afb3-62f117067b28"
      },
      "source": [
        "import keras.backend as K \n",
        "import numpy as np\n",
        "\n",
        "x = K.variable(np.eye(2, 2)) \n",
        "\n",
        "print('shape:', K.shape(x))\n",
        "print('int_shape:', K.int_shape(x))"
      ],
      "execution_count": null,
      "outputs": [
        {
          "output_type": "stream",
          "text": [
            "shape: tf.Tensor([2 2], shape=(2,), dtype=int32)\n",
            "int_shape: (2, 2)\n"
          ],
          "name": "stdout"
        }
      ]
    },
    {
      "cell_type": "code",
      "metadata": {
        "id": "xljQLiwz0unh"
      },
      "source": [
        ""
      ],
      "execution_count": null,
      "outputs": []
    }
  ]
}